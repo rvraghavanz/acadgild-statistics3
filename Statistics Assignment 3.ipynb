{
 "cells": [
  {
   "cell_type": "markdown",
   "metadata": {},
   "source": [
    "## Problem Statement 1:\n",
    "#### Blood glucose levels for obese patients have a mean of 100 with a standard deviation of 15. A researcher thinks that a diet high in raw cornstarch will have a positive effect on blood glucose levels. A sample of 36 patients who have tried the raw cornstarch diet have a mean glucose level of 108. Test the hypothesis that the raw cornstarch had an effect or not."
   ]
  },
  {
   "cell_type": "code",
   "execution_count": 15,
   "metadata": {},
   "outputs": [
    {
     "name": "stdout",
     "output_type": "stream",
     "text": [
      "z value of the sample is: 3.2000\n",
      "p value of the sample is 0.9993\n",
      "Probability of having value less than 108 is 0.9993 and more than or equals to 108 is 0.0007\n",
      "It is less than 0.05 so we will reject the Null hypothesis i.e. This implies that the cornstarch diet has a positive effect\n"
     ]
    }
   ],
   "source": [
    "import math as m\n",
    "import scipy.stats as st\n",
    "#initialise sample and population data\n",
    "\n",
    "pop_mean=100\n",
    "pop_sd=15\n",
    "sam_mean=108\n",
    "n_sample=36\n",
    "\n",
    "#Step 1: State the null and alternative hypothesis based on the population mean\n",
    "#H0=100\n",
    "#H1>100\n",
    "\n",
    "#Step 2: Set up the significance level. It is not given in the problem so let’s assume it as 5% (0.05).\n",
    "sig_lvl=0.05\n",
    "\n",
    "#Step 3: Compute the z value associated with sample by formula z=(sample mean-population mean)/sample variance\n",
    "\n",
    "sam_var=15/m.sqrt(36)\n",
    "\n",
    "sample_z=(sam_mean-pop_mean)/sam_var\n",
    "print(\"z value of the sample is: %0.4f\"%sample_z)\n",
    "\n",
    "\n",
    "#Step 4: get the p value from z-table for the calculated z value\n",
    "sample_p=st.norm.cdf(sample_z)\n",
    "print(\"p value of the sample is %0.4f\"%sample_p)\n",
    "\n",
    "\n",
    "#step 5: Make decision\n",
    "print(\"Probability of having value less than 108 is %0.4f and more than or equals to 108 is %0.4f\"%(sample_p,1-sample_p))\n",
    "print(\"It is less than %0.2f so we will reject the Null hypothesis i.e. This implies that the cornstarch diet has a positive effect\"%sig_lvl)"
   ]
  },
  {
   "cell_type": "markdown",
   "metadata": {},
   "source": [
    "## Problem Statement 2:\n",
    "#### In one state, 52% of the voters are Republicans, and 48% are Democrats. In a second state, 47% of the voters are Republicans, and 53% are Democrats. Suppose a simple random sample of 100 voters are surveyed from each state. What is the probability that the survey will show a greater percentage of Republican voters in the second state than in the first state?"
   ]
  },
  {
   "cell_type": "code",
   "execution_count": 16,
   "metadata": {},
   "outputs": [
    {
     "name": "stdout",
     "output_type": "stream",
     "text": [
      " Sample mean:  0.050000000000000044 Sample Std :  0.07061869440877536\n",
      "Z_score(p1,p2) :  -0.7080278164104213\n",
      "From Z table we find that the probability of a z-score being -0.7082 or less is 0.24. Therefore, the probability that the survey will show a greater percentage of Republican voters #in the second state than in the first state is 0.24 or 24%\n"
     ]
    }
   ],
   "source": [
    "#let :-\n",
    "#P1 = the proportion of Republican voters in the first state\n",
    "#P2 = the proportion of Republican voters in the second state\n",
    "#p1 = the proportion of Republican voters in the sample from the first state\n",
    "#p2 = the proportion of Republican voters in the sample from the second state. \n",
    "\n",
    "#The number of voters sampled from the first state (n1) = 100\n",
    "n1 = 100\n",
    "#The number of voters sampled from the second state (n2) = 100.\n",
    "n2 = 100\n",
    "\n",
    "P1 = 0.52\n",
    "#(1 - P1) = Q1\n",
    "Q1 = 0.48\n",
    "P2 = 0.47\n",
    "#(1 - P2) = Q2\n",
    "Q2 = 0.53\n",
    "\n",
    "\n",
    "#The mean of the difference in sample proportions .i.e Expected Value E[p1 -p2] = P1 - P2 = mu\n",
    "mu =  P1 - P2\n",
    "\n",
    "#The standard deviation of the difference (std)\n",
    "std = m.sqrt(((P1 * Q1 ) / n1) + ((P2 * Q2) /n2))\n",
    "print(\" Sample mean: \",mu,\"Sample Std : \",std)\n",
    "\n",
    "#This problem requires us to find the probability that p1 is less than p2. \n",
    "#This is equivalent to finding the probability that p1 - p2 < 0. \n",
    "x = 0\n",
    "#To find this probability, we need to transform the random variable (p1 - p2) into a z-score. \n",
    "#That transformation appears below.\n",
    "Z_p1_p2 = ( x - mu)/std\n",
    "\n",
    "print(\"Z_score(p1,p2) : \",Z_p1_p2)\n",
    "\n",
    "print(\"From Z table we find that the probability of a z-score being -0.7082 or less is 0.24. Therefore, the probability that the survey will show a greater percentage of Republican voters #in the second state than in the first state is 0.24 or 24%\")"
   ]
  },
  {
   "cell_type": "markdown",
   "metadata": {},
   "source": [
    "## Problem Statement 3:\n",
    "#### You take the SAT and score 1100. The mean score for the SAT is 1026 and the standard deviation is 209. How well did you score on the test compared to the average test taker?"
   ]
  },
  {
   "cell_type": "code",
   "execution_count": 14,
   "metadata": {},
   "outputs": [
    {
     "name": "stdout",
     "output_type": "stream",
     "text": [
      "Z Score :  0.35406698564593303\n",
      "P-Value: 0.6384\n",
      "This implies that I have 63.84 percent people having scored below !\n"
     ]
    }
   ],
   "source": [
    "#The z score tells you how many standard deviations from the mean your score is\n",
    "#initialise values\n",
    "x = 1100 #\n",
    "mu = 1026 # Population Mean\n",
    "sd = 209 #population standard deviation\n",
    "\n",
    "#calculate z values\n",
    "z = ( x - mu)/sd\n",
    "print(\"Z Score : \",z)\n",
    "\n",
    "#calculate P values\n",
    "p=st.norm.cdf(z)\n",
    "print(\"P-Value: %0.4f\"%p)\n",
    "\n",
    "print(\"This implies that I have %0.2f percent\" %(p*100) + \" people having scored below !\" )"
   ]
  },
  {
   "cell_type": "code",
   "execution_count": null,
   "metadata": {},
   "outputs": [],
   "source": []
  }
 ],
 "metadata": {
  "kernelspec": {
   "display_name": "Python 3",
   "language": "python",
   "name": "python3"
  },
  "language_info": {
   "codemirror_mode": {
    "name": "ipython",
    "version": 3
   },
   "file_extension": ".py",
   "mimetype": "text/x-python",
   "name": "python",
   "nbconvert_exporter": "python",
   "pygments_lexer": "ipython3",
   "version": "3.6.6"
  }
 },
 "nbformat": 4,
 "nbformat_minor": 2
}
